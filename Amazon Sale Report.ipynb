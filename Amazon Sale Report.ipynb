{
 "cells": [
  {
   "cell_type": "code",
   "execution_count": 1,
   "id": "76fc6668",
   "metadata": {},
   "outputs": [],
   "source": [
    "import numpy as np\n",
    "import pandas as pd\n",
    "import matplotlib.pyplot as plt \n",
    "import seaborn as sns"
   ]
  },
  {
   "cell_type": "code",
   "execution_count": null,
   "id": "1cd75278",
   "metadata": {},
   "outputs": [],
   "source": [
    "df=pd.read_csv('Amazon Sale Report.csv')"
   ]
  },
  {
   "cell_type": "code",
   "execution_count": null,
   "id": "8292a6f6",
   "metadata": {},
   "outputs": [],
   "source": [
    "df.shape"
   ]
  },
  {
   "cell_type": "code",
   "execution_count": null,
   "id": "6153174f",
   "metadata": {},
   "outputs": [],
   "source": [
    "df.head()"
   ]
  },
  {
   "cell_type": "code",
   "execution_count": null,
   "id": "a83b630e",
   "metadata": {},
   "outputs": [],
   "source": [
    "df.tail()"
   ]
  },
  {
   "cell_type": "code",
   "execution_count": null,
   "id": "23f4cb1b",
   "metadata": {},
   "outputs": [],
   "source": [
    "df.info()"
   ]
  },
  {
   "cell_type": "code",
   "execution_count": null,
   "id": "40d56df6",
   "metadata": {},
   "outputs": [],
   "source": [
    "#drop unrelated/blank columns\n",
    "df.drop(['New','PendingS'], axis=1, inplace=True)"
   ]
  },
  {
   "cell_type": "code",
   "execution_count": null,
   "id": "9966be6c",
   "metadata": {},
   "outputs": [],
   "source": [
    "df.info()"
   ]
  },
  {
   "cell_type": "code",
   "execution_count": null,
   "id": "2e76d1aa",
   "metadata": {},
   "outputs": [],
   "source": [
    "pd.isnull(df) \n",
    "# checking null value "
   ]
  },
  {
   "cell_type": "code",
   "execution_count": null,
   "id": "3aed3902",
   "metadata": {},
   "outputs": [],
   "source": [
    "pd.isnull(df).sum()\n",
    "# sum will give total values of null values"
   ]
  },
  {
   "cell_type": "code",
   "execution_count": null,
   "id": "88f01fb2",
   "metadata": {},
   "outputs": [],
   "source": [
    "df.shape"
   ]
  },
  {
   "cell_type": "code",
   "execution_count": null,
   "id": "d23f8334",
   "metadata": {},
   "outputs": [],
   "source": [
    "#drop null values\n",
    "df.dropna(inplace=True)"
   ]
  },
  {
   "cell_type": "code",
   "execution_count": null,
   "id": "1bbe3d68",
   "metadata": {},
   "outputs": [],
   "source": [
    "df.shape"
   ]
  },
  {
   "cell_type": "code",
   "execution_count": null,
   "id": "647e456b",
   "metadata": {},
   "outputs": [],
   "source": [
    "df.columns"
   ]
  },
  {
   "cell_type": "code",
   "execution_count": null,
   "id": "ba33e297",
   "metadata": {},
   "outputs": [],
   "source": [
    "# change data type\n",
    "df['ship-postal-code']=df['ship-postal-code'].astype('int')"
   ]
  },
  {
   "cell_type": "code",
   "execution_count": null,
   "id": "58da2741",
   "metadata": {},
   "outputs": [],
   "source": [
    "#checking whether the  data type change or not\n",
    "df['ship-postal-code'].dtype"
   ]
  },
  {
   "cell_type": "code",
   "execution_count": null,
   "id": "79fd7a2b",
   "metadata": {},
   "outputs": [],
   "source": [
    "df['Date']=pd.to_datetime (df['Date'])"
   ]
  },
  {
   "cell_type": "code",
   "execution_count": null,
   "id": "46a897cd",
   "metadata": {},
   "outputs": [],
   "source": [
    "df.columns"
   ]
  },
  {
   "cell_type": "code",
   "execution_count": null,
   "id": "c87d019e",
   "metadata": {},
   "outputs": [],
   "source": [
    "#rename Columns\n",
    "df.rename(columns={'Qty':'Quantity'})"
   ]
  },
  {
   "cell_type": "code",
   "execution_count": null,
   "id": "132042c0",
   "metadata": {},
   "outputs": [],
   "source": [
    "#describe() method return description of the data in the DataFrame(i.e count,mean,std,min..etc)\n",
    "df.describe()"
   ]
  },
  {
   "cell_type": "code",
   "execution_count": null,
   "id": "e43a92ad",
   "metadata": {},
   "outputs": [],
   "source": [
    "df.describe(include='object')"
   ]
  },
  {
   "cell_type": "code",
   "execution_count": null,
   "id": "afb25ed2",
   "metadata": {},
   "outputs": [],
   "source": [
    "#use describe() for specific columns\n",
    "df[['Qty','Amount']].describe()"
   ]
  },
  {
   "cell_type": "markdown",
   "id": "f30d6f84",
   "metadata": {},
   "source": [
    "# Exploratory Data Analysis\n"
   ]
  },
  {
   "cell_type": "code",
   "execution_count": null,
   "id": "0a23747d",
   "metadata": {},
   "outputs": [],
   "source": [
    "df.columns"
   ]
  },
  {
   "cell_type": "markdown",
   "id": "43644f24",
   "metadata": {},
   "source": [
    "### size"
   ]
  },
  {
   "cell_type": "code",
   "execution_count": null,
   "id": "47b4218d",
   "metadata": {},
   "outputs": [],
   "source": [
    "ax=sns.countplot(x='Size' ,data=df)"
   ]
  },
  {
   "cell_type": "code",
   "execution_count": null,
   "id": "7bf5dca4",
   "metadata": {},
   "outputs": [],
   "source": [
    "ax=sns.countplot(x='Size' ,data=df)\n",
    "\n",
    "for bars in ax.containers:\n",
    "    ax.bar_label(bars)"
   ]
  },
  {
   "cell_type": "markdown",
   "id": "bff6f982",
   "metadata": {},
   "source": [
    "#### Note: From above Graph you can see that most of the people buys M-Size "
   ]
  },
  {
   "cell_type": "markdown",
   "id": "5ea61868",
   "metadata": {},
   "source": [
    "# Group By\n",
    "#### The groupby() function in pandas is used to group data based on one or more columns in a DataFrame"
   ]
  },
  {
   "cell_type": "code",
   "execution_count": null,
   "id": "6f7fe51d",
   "metadata": {},
   "outputs": [],
   "source": [
    "df.groupby(['Size'], as_index=False)['Qty'].sum().sort_values(by='Qty',ascending=False)"
   ]
  },
  {
   "cell_type": "code",
   "execution_count": null,
   "id": "ec73743a",
   "metadata": {},
   "outputs": [],
   "source": [
    "S_Qty=df.groupby(['Size'], as_index=False)['Qty'].sum().sort_values(by='Qty',ascending=False)\n",
    "\n",
    "sns.barplot(x='Size',y='Qty', data=S_Qty)\n"
   ]
  },
  {
   "cell_type": "markdown",
   "id": "44227807",
   "metadata": {},
   "source": [
    "##### Note: From above Graph you can see that most of the Qty buys M-Size in the sales "
   ]
  },
  {
   "cell_type": "markdown",
   "id": "0eb3b813",
   "metadata": {},
   "source": [
    "### Courier Status "
   ]
  },
  {
   "cell_type": "code",
   "execution_count": null,
   "id": "5a416674",
   "metadata": {},
   "outputs": [],
   "source": [
    "sns.countplot(data=df, x='Courier Status',hue= 'Status')\n",
    "plt.show()"
   ]
  },
  {
   "cell_type": "markdown",
   "id": "130d4578",
   "metadata": {},
   "source": [
    "##### Note: From above Graph the majority of the orders are shipped through the courier."
   ]
  },
  {
   "cell_type": "code",
   "execution_count": null,
   "id": "4cfd16bb",
   "metadata": {},
   "outputs": [],
   "source": [
    "df['Category'] = df['Category'].astype(str)\n",
    "column_data = df['Category']\n",
    "plt.figure(figsize=(10, 5))\n",
    "plt.hist(column_data, bins=30, edgecolor='Black')\n",
    "plt.xticks(rotation=90)\n",
    "plt.show()"
   ]
  },
  {
   "cell_type": "markdown",
   "id": "9bd278ee",
   "metadata": {},
   "source": [
    "##### Note: From above Graph you can see that most of the  buyers are T-shirt "
   ]
  },
  {
   "cell_type": "code",
   "execution_count": null,
   "id": "86079f15",
   "metadata": {},
   "outputs": [],
   "source": [
    "# Prepare data for scatter plot\n",
    "x_data = df['Category']  \n",
    "y_data = df['Size'] \n",
    "\n",
    "# Plot the scatter plot\n",
    "plt.scatter(x_data, y_data)\n",
    "plt.xlabel('Category ')  \n",
    "plt.ylabel('Size')  \n",
    "plt.title('Scatter Plot') \n",
    "plt.show()\n"
   ]
  },
  {
   "cell_type": "code",
   "execution_count": null,
   "id": "71261cdc",
   "metadata": {},
   "outputs": [],
   "source": [
    "# Plot count of cities by state\n",
    "plt.figure(figsize=(12, 6))\n",
    "sns.countplot(data=df, x='ship-state')\n",
    "plt.xlabel('ship-state')\n",
    "plt.ylabel('count')\n",
    "plt.title('Distribution of State')\n",
    "plt.xticks(rotation=90)\n",
    "plt.show()\n"
   ]
  },
  {
   "cell_type": "markdown",
   "id": "cfdae8ef",
   "metadata": {},
   "source": [
    "#### Note: From above Graph we can see that most of the  buyers are from Maharashtra state"
   ]
  },
  {
   "cell_type": "markdown",
   "id": "ae892924",
   "metadata": {},
   "source": [
    "### Conclusion"
   ]
  },
  {
   "cell_type": "markdown",
   "id": "82d63980",
   "metadata": {},
   "source": [
    "#### The data analysis reveals that the business has a significant customer base in Maharashtra state, mainly serves retailers, experiences high demand for T-shirts, and sees M-Size as the preferred choice among buyers."
   ]
  },
  {
   "cell_type": "code",
   "execution_count": null,
   "id": "9f86db76",
   "metadata": {},
   "outputs": [],
   "source": []
  }
 ],
 "metadata": {
  "kernelspec": {
   "display_name": "Python 3 (ipykernel)",
   "language": "python",
   "name": "python3"
  },
  "language_info": {
   "codemirror_mode": {
    "name": "ipython",
    "version": 3
   },
   "file_extension": ".py",
   "mimetype": "text/x-python",
   "name": "python",
   "nbconvert_exporter": "python",
   "pygments_lexer": "ipython3",
   "version": "3.11.5"
  }
 },
 "nbformat": 4,
 "nbformat_minor": 5
}
